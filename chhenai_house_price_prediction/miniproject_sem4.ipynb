{
  "nbformat": 4,
  "nbformat_minor": 0,
  "metadata": {
    "colab": {
      "name": "miniproject.ipynb",
      "provenance": []
    },
    "kernelspec": {
      "name": "python3",
      "display_name": "Python 3"
    }
  },
  "cells": [
    {
      "cell_type": "markdown",
      "metadata": {
        "id": "slccg5xXp-Tx"
      },
      "source": [
        "**IMPORTING ALL THE USEFULL LIBRARIES**"
      ]
    },
    {
      "cell_type": "code",
      "metadata": {
        "id": "dZuB2TWvmMbi"
      },
      "source": [
        "import pandas as pd\n",
        "import numpy as np\n",
        "import matplotlib.pyplot as plt\n",
        "import scipy.stats as stats\n",
        "%matplotlib inline\n",
        "import seaborn as sb\n",
        "import sklearn\n",
        "from pylab import rcParamsOrig\n",
        "from scipy.stats import ttest_ind\n",
        "from scipy.stats import ttest_1samp\n",
        "from scipy.stats import chi2_contingency\n",
        "from sklearn.utils import shuffle\n",
        "from sklearn.linear_model import LinearRegression as LR\n",
        "from sklearn.metrics import mean_absolute_error as mae\n",
        "from sklearn.preprocessing import scale\n",
        "from sklearn.preprocessing import LabelEncoder\n",
        "from sklearn.model_selection import train_test_split\n",
        "from sklearn.model_selection import ShuffleSplit\n",
        "from sklearn.model_selection import cross_val_score\n",
        "from sklearn.model_selection import GridSearchCV\n",
        "from collections import Counter"
      ],
      "execution_count": null,
      "outputs": []
    },
    {
      "cell_type": "markdown",
      "metadata": {
        "id": "Sq8fhzHMqK20"
      },
      "source": [
        "**CLEANING OF DATA**"
      ]
    },
    {
      "cell_type": "code",
      "metadata": {
        "id": "o7FsNczmm3Ix"
      },
      "source": [
        "fd=pd.read_csv('chennai_house_price_prediction.csv')   #READING THE CSV FILE\n",
        "fd.shape                               #TO SEE ALL NO. OF COLUMN AND ROW\n",
        "fd.head(10)  \n",
        "fd.tail(10)                            #TO PRINT FIRST5 ROWS WITH COLUMN                \n",
        "fd.columns                             #TO PRINT NAMES OF ALL THE COLUMNS\n",
        "fd.dtypes                              #TO CHECK FOR THE VARIABLE\n",
        "fd.isnull().sum()                      #TO CHECK THE MISSING VALUES\n",
        "fd.fillna(0,inplace=True)              #INTIALIZING 0 TO ALL MISSING VALUES\n",
        "fd.isnull().sum()                      #TO CHECK WHETHER THERE IS ANY NULL VALUE IN EACH COLUMN\n",
        "fd.dtypes "
      ],
      "execution_count": null,
      "outputs": []
    },
    {
      "cell_type": "markdown",
      "metadata": {
        "id": "nDTVHHgksVi-"
      },
      "source": [
        "**INVESTIGATION BETWEEN CATEGORICAL VARIABLES**"
      ]
    },
    {
      "cell_type": "code",
      "metadata": {
        "id": "lfDm7GM3zDNx"
      },
      "source": [
        "#2 or more categorical variables\n",
        "pd.crosstab(fd['PARK_FACIL'],fd['BUILDTYPE'])\n",
        "chi2_contingency(pd.crosstab(fd['PARK_FACIL'],fd['BUILDTYPE'])),pd.crosstab(fd['PARK_FACIL'],fd['BUILDTYPE']).plot.bar()\n"
      ],
      "execution_count": null,
      "outputs": []
    },
    {
      "cell_type": "markdown",
      "metadata": {
        "id": "fiEPco6btWXe"
      },
      "source": [
        "**COMBINATION OF CATEGORICAL AND CONTINUOUS VARIABLES**"
      ]
    },
    {
      "cell_type": "code",
      "metadata": {
        "id": "YWWxd7358_2C"
      },
      "source": [
        "#categorical and contiunuous\n",
        "fd.groupby('PARK_FACIL')['SALES_PRICE'].mean()\n",
        "fd.groupby('PARK_FACIL')['SALES_PRICE'].mean().plot.bar()"
      ],
      "execution_count": null,
      "outputs": []
    },
    {
      "cell_type": "markdown",
      "metadata": {
        "id": "IKPbHffatke9"
      },
      "source": [
        "**T TEST**"
      ]
    },
    {
      "cell_type": "code",
      "metadata": {
        "id": "lnzeYJCP-ZTH"
      },
      "source": [
        "#T test\n",
        "yes=fd[fd['PARK_FACIL']=='Yes']\n",
        "no=fd[fd['PARK_FACIL']=='No']\n",
        "a=yes.mean()\n",
        "b=no.mean()\n",
        "_,p_value=ttest_ind(yes['SALES_PRICE'],no['SALES_PRICE'],nan_policy='omit')\n",
        "print(\"P VALUE IS : \",p_value)\n",
        "if p_value < 0.05:\n",
        "  print('REJECTING NULL HYPOTHESIS')\n",
        "else:\n",
        "  print('ACCEPTING NULL HYPOTHESIS')"
      ],
      "execution_count": null,
      "outputs": []
    },
    {
      "cell_type": "markdown",
      "metadata": {
        "id": "it8fYWoh_967"
      },
      "source": [
        "**HYPOTHESIS**\n",
        "\n",
        "This is the datset in which we have to predict the sales price of the house.\n",
        "So we have to wisely select the variables on which we have perform the operations.\n",
        "Some variables should be representing number of bedrom,bathroom,the locality where the house is located and many such variables.\n",
        "In this we also study about the means of the groups."
      ]
    },
    {
      "cell_type": "markdown",
      "metadata": {
        "id": "xAEmXxA7wO8f"
      },
      "source": [
        "**NULL HYPOTHESIS**\n",
        "\n",
        "The hypothesis that says there is no statistical significance between the two variables.If the means of two groups is same then it is null hypothesis otherwise it is alternate hypothesis"
      ]
    },
    {
      "cell_type": "code",
      "metadata": {
        "id": "A1UeR8zvvkb4"
      },
      "source": [
        "area =pd.get_dummies(fd.AREA)          #CREATION OF DUMMY FOR THE COLUMNS WHICH ARE CATEGORICAL \n",
        "salecond =pd.get_dummies(fd.SALE_COND)\n",
        "parking =pd.get_dummies(fd.PARK_FACIL)\n",
        "buildtype =pd.get_dummies(fd.BUILDTYPE)\n",
        "utility =pd.get_dummies(fd.UTILITY_AVAIL)\n",
        "street =pd.get_dummies(fd.STREET)\n",
        "mzzone =pd.get_dummies(fd.MZZONE)\n",
        "area.head()\n",
        "fd1=fd.drop(['AREA','SALE_COND','PARK_FACIL','BUILDTYPE','UTILITY_AVAIL','STREET','MZZONE'],axis='columns')\n",
        "fd2=pd.concat([fd1,area,salecond,parking,buildtype,utility,street,mzzone],axis='columns')"
      ],
      "execution_count": null,
      "outputs": []
    },
    {
      "cell_type": "code",
      "metadata": {
        "id": "tiGHF10Br-M7"
      },
      "source": [
        "fd2.head()\n",
        "fd2.drop(['PRT_ID'],axis='columns',inplace=True)"
      ],
      "execution_count": null,
      "outputs": []
    },
    {
      "cell_type": "markdown",
      "metadata": {
        "id": "yM5WgJ8J0tOn"
      },
      "source": [
        "**LINEAR REGRESSION ANALYASIS**"
      ]
    },
    {
      "cell_type": "code",
      "metadata": {
        "id": "F2zmnyUdOS_P"
      },
      "source": [
        "#LINEAR \n",
        "x=fd2.drop(['SALES_PRICE'], axis=1)\n",
        "y=fd2['SALES_PRICE']\n",
        "x.shape,y.shape\n",
        "train_x,test_x,train_y,test_y=train_test_split(x,y,test_size=0.2,random_state =46) #TO DIFFERENTIATE THE TEST DATA AND TRAIN DATA\n",
        "lr=LR()\n",
        "lr.fit(train_x,train_y)   \n",
        "lr.score(test_x,test_y)\n",
        "cv=ShuffleSplit(n_splits=10, test_size=0.2, random_state=0)\n",
        "cross_val_score(lr,x,y,cv=cv)"
      ],
      "execution_count": null,
      "outputs": []
    },
    {
      "cell_type": "code",
      "metadata": {
        "id": "AHGfeCGWb5Hy"
      },
      "source": [
        "#prediction over train set and calculating error \n",
        "train_predict=lr.predict(train_x)\n",
        "k=mae(train_predict,train_y)\n",
        "print('TRAINING MEAN ABSOLUTE ERROR',k)"
      ],
      "execution_count": null,
      "outputs": []
    },
    {
      "cell_type": "code",
      "metadata": {
        "id": "P5lP903Yb9ls"
      },
      "source": [
        "#prediction over test set and calculating error \n",
        "test_predict=lr.predict(test_x)\n",
        "k=mae(test_predict,test_y)\n",
        "print('TESTING MEAN ABSOLUTE ERROR',k)"
      ],
      "execution_count": null,
      "outputs": []
    },
    {
      "cell_type": "code",
      "metadata": {
        "id": "BQpS3wDu5qi_"
      },
      "source": [
        "lr.score(train_x,train_y),lr.score(test_x,test_y)"
      ],
      "execution_count": null,
      "outputs": []
    },
    {
      "cell_type": "code",
      "metadata": {
        "id": "Db5C02BYoLeG"
      },
      "source": [
        "def predict_price(area,sqft,bath,bhk):\n",
        "  loc_index=np.where(x.columns==area)[0][0]\n",
        "  X=np.zeros(len(x.columns))\n",
        "  X[0]=sqft\n",
        "  X[1]=bath\n",
        "  X[2]=bhk\n",
        "  if loc_index >=0:\n",
        "    X[loc_index]=1\n",
        "\n",
        "  return lr.predict([X])[0]\n"
      ],
      "execution_count": null,
      "outputs": []
    },
    {
      "cell_type": "code",
      "metadata": {
        "id": "99s4tkT9rOZK"
      },
      "source": [
        "print(predict_price('Velachery',1220,2,3))\n",
        "print(predict_price('Adyar',1340,3,2))\n",
        "print(predict_price('Adyar',2222,2,4))"
      ],
      "execution_count": null,
      "outputs": []
    },
    {
      "cell_type": "markdown",
      "metadata": {
        "id": "VoswfHi92kfs"
      },
      "source": [
        "**SCATTER PLOT FOR REGRESSION AND CORRELATION**"
      ]
    },
    {
      "cell_type": "code",
      "metadata": {
        "id": "Qig1arlq4ssa"
      },
      "source": [
        "#CORRELATION SCATTER PLOT\n",
        "a=fd.corr(method='pearson')         #correlation matrix\n",
        "#sb.pairplot(a)\n",
        "fd.plot.scatter('SALES_PRICE','INT_SQFT')"
      ],
      "execution_count": null,
      "outputs": []
    },
    {
      "cell_type": "code",
      "metadata": {
        "id": "g-RyyqijImg2"
      },
      "source": [
        "#REGRESSION SCATTER PLOT\n",
        "x=fd.sample(200)\n",
        "ax=x['SALES_PRICE']\n",
        "ay=x['INT_SQFT']\n",
        "sb.regplot(ax,ay,color='r',data=fd)"
      ],
      "execution_count": null,
      "outputs": []
    },
    {
      "cell_type": "markdown",
      "metadata": {
        "id": "jEbACTlE3Qbo"
      },
      "source": [
        "**ANOVA TEST**"
      ]
    },
    {
      "cell_type": "code",
      "metadata": {
        "id": "47oumJLUPHhD"
      },
      "source": [
        "import statsmodels.api as sm\n",
        "from statsmodels.formula.api import ols\n",
        "data=fd.values\n",
        "lm=ols('SALES_PRICE~STREET',data=fd).fit()\n",
        "sm.stats.anova_lm(lm)"
      ],
      "execution_count": null,
      "outputs": []
    },
    {
      "cell_type": "markdown",
      "metadata": {
        "id": "9XqxTXVd78ut"
      },
      "source": [
        "**BAR CHART FOR ANOVA**"
      ]
    },
    {
      "cell_type": "code",
      "metadata": {
        "id": "AHBRGkFoE_pz"
      },
      "source": [
        "sm.stats.anova_lm(lm).plot.bar()"
      ],
      "execution_count": null,
      "outputs": []
    }
  ]
}